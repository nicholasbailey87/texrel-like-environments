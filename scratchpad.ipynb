{
 "cells": [
  {
   "cell_type": "markdown",
   "id": "06b4daee",
   "metadata": {},
   "source": [
    "# Let's write some tests"
   ]
  },
  {
   "cell_type": "markdown",
   "id": "96dfe130",
   "metadata": {},
   "source": [
    "## Testing environment.py"
   ]
  },
  {
   "cell_type": "code",
   "execution_count": 7,
   "id": "1889458a",
   "metadata": {},
   "outputs": [
    {
     "name": "stderr",
     "output_type": "stream",
     "text": [
      "test_hash (__main__.TestThingTemplate.test_hash) ... ok\n",
      "test_pattern (__main__.TestThingTemplate.test_pattern) ... ok\n",
      "\n",
      "----------------------------------------------------------------------\n",
      "Ran 2 tests in 0.002s\n",
      "\n",
      "OK\n"
     ]
    },
    {
     "data": {
      "text/plain": [
       "<unittest.main.TestProgram at 0x19dfef4be60>"
      ]
     },
     "execution_count": 7,
     "metadata": {},
     "output_type": "execute_result"
    }
   ],
   "source": [
    "import unittest\n",
    "\n",
    "from texrelenv import environment as env\n",
    "\n",
    "class TestThingTemplate(unittest.TestCase):\n",
    "    def __init__(self, methodName: str = \"runTest\") -> None:\n",
    "        super().__init__(methodName)\n",
    "        self.template = env.ThingTemplate(4)\n",
    "    def test_pattern(self):\n",
    "        self.assertEqual(len(self.template.pattern), 4)\n",
    "        self.assertTrue(sum(sum(self.template.pattern, [])) <= 16)\n",
    "        self.assertTrue(sum(sum(self.template.pattern, [])) >= 0)\n",
    "    def test_hash(self):\n",
    "        self.assertEqual(self.template.hash(), hash(str(self.template.pattern)))\n",
    "\n",
    "class TestThing(unittest.TestCase):\n",
    "    pass\n",
    "\n",
    "class TestThingMaker(unittest.TestCase):\n",
    "    pass\n",
    "\n",
    "class TestGrid(unittest.TestCase):\n",
    "    pass\n",
    "\n",
    "\n",
    "unittest.main(argv=[''], verbosity=2, exit=False)"
   ]
  },
  {
   "cell_type": "code",
   "execution_count": 1,
   "id": "0debad90-db21-4c8f-8901-cea1dbd8eb25",
   "metadata": {},
   "outputs": [
    {
     "data": {
      "text/html": [
       "<div style=\"height=2em;width=2em;background:rgb(242, 243, 244);\">(242, 243, 244)</div>\n",
       "<div style=\"height=2em;width=2em;background:rgb(34, 34, 34);\">(34, 34, 34)</div>\n",
       "<div style=\"height=2em;width=2em;background:rgb(243, 195, 0);\">(243, 195, 0)</div>\n",
       "<div style=\"height=2em;width=2em;background:rgb(135, 86, 146);\">(135, 86, 146)</div>\n",
       "<div style=\"height=2em;width=2em;background:rgb(243, 132, 0);\">(243, 132, 0)</div>\n"
      ],
      "text/plain": [
       "<IPython.core.display.HTML object>"
      ]
     },
     "execution_count": 1,
     "metadata": {
      "text/html": {
       "isolated": true
      }
     },
     "output_type": "execute_result"
    }
   ],
   "source": [
    "from IPython.display import HTML\n",
    "from texrelenv.colour import get_kelly_colours\n",
    "\n",
    "def show_colours(colours):\n",
    "    html = \"\"\n",
    "    for c in colours:\n",
    "        r, g, b = c\n",
    "        html += f'<div style=\"height=2em;width=2em;background:rgb({r}, {g}, {b});\">{c}</div>\\n'\n",
    "    return HTML(html, metadata=dict(isolated=True))\n",
    "\n",
    "show_colours(get_kelly_colours()[:5])"
   ]
  },
  {
   "cell_type": "code",
   "execution_count": 55,
   "id": "d1adf0ab-91ad-4099-bee7-6ed5e54a77a3",
   "metadata": {},
   "outputs": [
    {
     "data": {
      "image/png": "[encoded data removed]",
      "text/plain": [
       "<Figure size 1200x400 with 3 Axes>"
      ]
     },
     "metadata": {},
     "output_type": "display_data"
    }
   ],
   "source": [
    "from texrelenv.environment import ThingMaker, Grid\n",
    "from PIL import Image\n",
    "import matplotlib.pyplot as plt\n",
    "\n",
    "tm = ThingMaker()\n",
    "fig, axs = plt.subplots(nrows=1, ncols=3, figsize=(12,4))\n",
    "for i, ax in enumerate(axs.flatten()):\n",
    "    plt.sca(ax)\n",
    "    plt.axis(\"off\")\n",
    "    grid = Grid()\n",
    "    things = [tm.thing() for _ in range(10)]\n",
    "    grid.pack(things)\n",
    "    plt.imshow(Image.fromarray(grid.array()))\n"
   ]
  }
 ],
 "metadata": {
  "kernelspec": {
   "display_name": "Python 3 (ipykernel)",
   "language": "python",
   "name": "python3"
  },
  "language_info": {
   "codemirror_mode": {
    "name": "ipython",
    "version": 3
   },
   "file_extension": ".py",
   "mimetype": "text/x-python",
   "name": "python",
   "nbconvert_exporter": "python",
   "pygments_lexer": "ipython3",
   "version": "3.12.8"
  }
 },
 "nbformat": 4,
 "nbformat_minor": 5
}
