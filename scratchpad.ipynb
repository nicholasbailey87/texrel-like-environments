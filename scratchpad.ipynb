{
 "cells": [
  {
   "cell_type": "code",
   "execution_count": 1,
   "id": "26437d7d-04cc-4ac5-b612-b8e480ff5731",
   "metadata": {},
   "outputs": [
    {
     "name": "stdout",
     "output_type": "stream",
     "text": [
      "Collecting texrelenv\n",
      "  Downloading texrelenv-0.1.0-py3-none-any.whl.metadata (4.1 kB)\n",
      "Collecting numpy<3.0.0,>=2.2.0 (from texrelenv)\n",
      "  Downloading numpy-2.2.1-cp312-cp312-macosx_14_0_x86_64.whl.metadata (62 kB)\n",
      "Collecting toml<0.11.0,>=0.10.2 (from texrelenv)\n",
      "  Downloading toml-0.10.2-py2.py3-none-any.whl.metadata (7.1 kB)\n",
      "Downloading texrelenv-0.1.0-py3-none-any.whl (7.0 kB)\n",
      "Downloading numpy-2.2.1-cp312-cp312-macosx_14_0_x86_64.whl (6.7 MB)\n",
      "\u001b[2K   \u001b[90m━━━━━━━━━━━━━━━━━━━━━━━━━━━━━━━━━━━━━━━━\u001b[0m \u001b[32m6.7/6.7 MB\u001b[0m \u001b[31m5.2 MB/s\u001b[0m eta \u001b[36m0:00:00\u001b[0m00:01\u001b[0m00:01\u001b[0m\n",
      "\u001b[?25hDownloading toml-0.10.2-py2.py3-none-any.whl (16 kB)\n",
      "Installing collected packages: toml, numpy, texrelenv\n",
      "Successfully installed numpy-2.2.1 texrelenv-0.1.0 toml-0.10.2\n"
     ]
    }
   ],
   "source": [
    "!pip install texrelenv"
   ]
  },
  {
   "cell_type": "code",
   "execution_count": 4,
   "id": "c6facf4c-a37d-477d-8f6b-6bde4cb3848e",
   "metadata": {},
   "outputs": [],
   "source": [
    "import random\n",
    "from texrelenv.environment import Environment\n",
    "from PIL import Image\n",
    "import matplotlib.pyplot as plt\n",
    "import numpy as np\n",
    "from texrelenv.color import get_kelly_colors\n",
    "from collections import defaultdict\n",
    "\n",
    "env = Environment(\n",
    "    grid_size=16,\n",
    "    hard_boundary=True,\n",
    "    objects_can_overlap=False,\n",
    "    thing_size=4,\n",
    "    distinct_shapes=9,\n",
    "    distinct_colors=9,\n",
    "    things_per_image=5,\n",
    "    hold_out_things=0.2,\n",
    "    hold_out_images=0.2\n",
    ")\n",
    "\n",
    "env = Environment(hard_boundary=True, distinct_colors=9, distinct_shapes=9)\n",
    "grids = env.sample(n=3)\n",
    "\n",
    "fig, axs = plt.subplots(nrows=1, ncols=3, figsize=(12,4))\n",
    "\n",
    "\n",
    "for i, ax in enumerate(axs.flatten()):\n",
    "    plt.sca(ax)\n",
    "    plt.axis(\"off\")\n",
    "    grid = grids[i]\n",
    "    colors_used = set(sum(grid.state_image, []))\n",
    "    kelly_colors = sorted(get_kelly_colors(), key=lambda x: sum(x))\n",
    "    if len(colors_used) < 22:\n",
    "        color_map = defaultdict(lambda: random.choice(kelly_colors[1:]))\n",
    "        color_map[0] = kelly_colors[0]\n",
    "    else:\n",
    "        color_map = {c: color.ordinal_to_color(c) for c in colors_used}\n",
    "    colorized_grid = np.asarray(\n",
    "        [[color_map[pixel] for pixel in row] for row in grid.state_image],\n",
    "        dtype=np.uint8,\n",
    "    )\n",
    "    plt.imshow(Image.fromarray(colorized_grid))\n"
   ]
  },
  {
   "cell_type": "markdown",
   "id": "06b4daee",
   "metadata": {},
   "source": [
    "# Let's write some tests"
   ]
  },
  {
   "cell_type": "markdown",
   "id": "96dfe130",
   "metadata": {},
   "source": [
    "## Testing environment.py"
   ]
  },
  {
   "cell_type": "code",
   "execution_count": 5,
   "id": "0debad90-db21-4c8f-8901-cea1dbd8eb25",
   "metadata": {},
   "outputs": [
    {
     "ename": "ImportError",
     "evalue": "cannot import name 'get_kelly_colours' from 'texrelenv.color' (/Users/nicholasbailey/git_repos/texrel-like-environments/texrelenv/color.py)",
     "output_type": "error",
     "traceback": [
      "\u001b[0;31m---------------------------------------------------------------------------\u001b[0m",
      "\u001b[0;31mImportError\u001b[0m                               Traceback (most recent call last)",
      "Cell \u001b[0;32mIn[5], line 2\u001b[0m\n\u001b[1;32m      1\u001b[0m \u001b[38;5;28;01mfrom\u001b[39;00m \u001b[38;5;21;01mIPython\u001b[39;00m\u001b[38;5;21;01m.\u001b[39;00m\u001b[38;5;21;01mdisplay\u001b[39;00m \u001b[38;5;28;01mimport\u001b[39;00m HTML\n\u001b[0;32m----> 2\u001b[0m \u001b[38;5;28;01mfrom\u001b[39;00m \u001b[38;5;21;01mtexrelenv\u001b[39;00m\u001b[38;5;21;01m.\u001b[39;00m\u001b[38;5;21;01mcolor\u001b[39;00m \u001b[38;5;28;01mimport\u001b[39;00m get_kelly_colours\n\u001b[1;32m      4\u001b[0m \u001b[38;5;28;01mdef\u001b[39;00m \u001b[38;5;21mshow_colours\u001b[39m(colours):\n\u001b[1;32m      5\u001b[0m     html \u001b[38;5;241m=\u001b[39m \u001b[38;5;124m\"\u001b[39m\u001b[38;5;124m\"\u001b[39m\n",
      "\u001b[0;31mImportError\u001b[0m: cannot import name 'get_kelly_colours' from 'texrelenv.color' (/Users/nicholasbailey/git_repos/texrel-like-environments/texrelenv/color.py)"
     ]
    }
   ],
   "source": [
    "from IPython.display import HTML\n",
    "from texrelenv.color import get_kelly_colours\n",
    "\n",
    "def show_colours(colours):\n",
    "    html = \"\"\n",
    "    for c in colours:\n",
    "        r, g, b = c\n",
    "        html += f'<div style=\"height=2em;width=2em;background:rgb({r}, {g}, {b});\">{c}</div>\\n'\n",
    "    return HTML(html, metadata=dict(isolated=True))\n",
    "\n",
    "show_colours(get_kelly_colours())"
   ]
  },
  {
   "cell_type": "code",
   "execution_count": 30,
   "id": "6ba675f7",
   "metadata": {},
   "outputs": [
    {
     "data": {
      "text/html": [
       "<div style=\"height=2em;width=2em;background:rgb(200, 240, 90);\">(200, 240, 90)</div>\n",
       "<div style=\"height=2em;width=2em;background:rgb(30, 120, 130);\">(30, 120, 130)</div>\n",
       "<div style=\"height=2em;width=2em;background:rgb(200, 110, 110);\">(200, 110, 110)</div>\n",
       "<div style=\"height=2em;width=2em;background:rgb(160, 50, 140);\">(160, 50, 140)</div>\n",
       "<div style=\"height=2em;width=2em;background:rgb(100, 140, 120);\">(100, 140, 120)</div>\n",
       "<div style=\"height=2em;width=2em;background:rgb(100, 220, 250);\">(100, 220, 250)</div>\n",
       "<div style=\"height=2em;width=2em;background:rgb(150, 100, 120);\">(150, 100, 120)</div>\n",
       "<div style=\"height=2em;width=2em;background:rgb(230, 10, 10);\">(230, 10, 10)</div>\n",
       "<div style=\"height=2em;width=2em;background:rgb(70, 60, 140);\">(70, 60, 140)</div>\n",
       "<div style=\"height=2em;width=2em;background:rgb(110, 120, 120);\">(110, 120, 120)</div>\n",
       "<div style=\"height=2em;width=2em;background:rgb(40, 210, 130);\">(40, 210, 130)</div>\n",
       "<div style=\"height=2em;width=2em;background:rgb(70, 20, 60);\">(70, 20, 60)</div>\n",
       "<div style=\"height=2em;width=2em;background:rgb(10, 10, 110);\">(10, 10, 110)</div>\n",
       "<div style=\"height=2em;width=2em;background:rgb(60, 10, 40);\">(60, 10, 40)</div>\n",
       "<div style=\"height=2em;width=2em;background:rgb(190, 50, 140);\">(190, 50, 140)</div>\n",
       "<div style=\"height=2em;width=2em;background:rgb(160, 240, 70);\">(160, 240, 70)</div>\n",
       "<div style=\"height=2em;width=2em;background:rgb(90, 170, 250);\">(90, 170, 250)</div>\n",
       "<div style=\"height=2em;width=2em;background:rgb(70, 20, 190);\">(70, 20, 190)</div>\n",
       "<div style=\"height=2em;width=2em;background:rgb(190, 190, 180);\">(190, 190, 180)</div>\n",
       "<div style=\"height=2em;width=2em;background:rgb(10, 140, 180);\">(10, 140, 180)</div>\n"
      ],
      "text/plain": [
       "<IPython.core.display.HTML object>"
      ]
     },
     "execution_count": 30,
     "metadata": {
      "text/html": {
       "isolated": true
      }
     },
     "output_type": "execute_result"
    }
   ],
   "source": [
    "from typing import Tuple\n",
    "\n",
    "def ordinal_to_colour(ordinal: int) -> Tuple[int, int, int]:\n",
    "    \"\"\"\n",
    "    Given an integer, deterministically produce a unique(ish) RGB colour.\n",
    "    \"\"\"\n",
    "    hashstring = str(abs(hash(str(ordinal))))\n",
    "    a, b, c = int(hashstring[:6]), int(hashstring[6:12]), int(hashstring[12:])\n",
    "    return ((a % 26) * 10, (b % 26) * 10, (c % 26) * 10)\n",
    "\n",
    "show_colours([ordinal_to_colour(i) for i in range(20)])"
   ]
  },
  {
   "cell_type": "code",
   "execution_count": 22,
   "id": "d1adf0ab-91ad-4099-bee7-6ed5e54a77a3",
   "metadata": {},
   "outputs": [
    {
     "data": {
      "image/png": "[encoded data removed]",
      "text/plain": [
       "<Figure size 1200x400 with 3 Axes>"
      ]
     },
     "metadata": {},
     "output_type": "display_data"
    }
   ],
   "source": [
    "import random\n",
    "from texrelenv.environment import Environment\n",
    "from PIL import Image\n",
    "import matplotlib.pyplot as plt\n",
    "import numpy as np\n",
    "from texrelenv import color\n",
    "from collections import defaultdict\n",
    "\n",
    "env = Environment(hard_boundary=True, distinct_colors=9, distinct_shapes=9)\n",
    "grids = env.sample(n=3)\n",
    "\n",
    "fig, axs = plt.subplots(nrows=1, ncols=3, figsize=(12,4))\n",
    "\n",
    "\n",
    "for i, ax in enumerate(axs.flatten()):\n",
    "    plt.sca(ax)\n",
    "    plt.axis(\"off\")\n",
    "    grid = grids[i]\n",
    "    colors_used = set(sum(grid.state_image, []))\n",
    "    kelly_colors = sorted(color.get_kelly_colors(), key=lambda x: sum(x))\n",
    "    if len(colors_used) < 22:\n",
    "        color_map = defaultdict(lambda: random.choice(kelly_colors[1:]))\n",
    "        color_map[0] = kelly_colors[0]\n",
    "    else:\n",
    "        color_map = {c: color.ordinal_to_color(c) for c in colors_used}\n",
    "    colorized_grid = np.asarray(\n",
    "        [[color_map[pixel] for pixel in row] for row in grid.state_image],\n",
    "        dtype=np.uint8,\n",
    "    )\n",
    "    plt.imshow(Image.fromarray(colorized_grid))\n"
   ]
  }
 ],
 "metadata": {
  "kernelspec": {
   "display_name": "Python 3 (ipykernel)",
   "language": "python",
   "name": "python3"
  },
  "language_info": {
   "codemirror_mode": {
    "name": "ipython",
    "version": 3
   },
   "file_extension": ".py",
   "mimetype": "text/x-python",
   "name": "python",
   "nbconvert_exporter": "python",
   "pygments_lexer": "ipython3",
   "version": "3.12.8"
  }
 },
 "nbformat": 4,
 "nbformat_minor": 5
}
