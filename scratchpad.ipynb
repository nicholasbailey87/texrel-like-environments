{
 "cells": [
  {
   "cell_type": "markdown",
   "id": "06b4daee",
   "metadata": {},
   "source": [
    "# Let's write some tests"
   ]
  },
  {
   "cell_type": "markdown",
   "id": "96dfe130",
   "metadata": {},
   "source": [
    "## Testing environment.py"
   ]
  },
  {
   "cell_type": "code",
   "execution_count": 1,
   "id": "0debad90-db21-4c8f-8901-cea1dbd8eb25",
   "metadata": {},
   "outputs": [
    {
     "data": {
      "text/html": [
       "<div style=\"height=2em;width=2em;background:rgb(34, 34, 34);\">(34, 34, 34)</div>\n",
       "<div style=\"height=2em;width=2em;background:rgb(242, 243, 244);\">(242, 243, 244)</div>\n",
       "<div style=\"height=2em;width=2em;background:rgb(243, 195, 0);\">(243, 195, 0)</div>\n",
       "<div style=\"height=2em;width=2em;background:rgb(135, 86, 146);\">(135, 86, 146)</div>\n",
       "<div style=\"height=2em;width=2em;background:rgb(243, 132, 0);\">(243, 132, 0)</div>\n",
       "<div style=\"height=2em;width=2em;background:rgb(161, 202, 241);\">(161, 202, 241)</div>\n",
       "<div style=\"height=2em;width=2em;background:rgb(190, 0, 50);\">(190, 0, 50)</div>\n",
       "<div style=\"height=2em;width=2em;background:rgb(194, 178, 128);\">(194, 178, 128)</div>\n",
       "<div style=\"height=2em;width=2em;background:rgb(132, 132, 130);\">(132, 132, 130)</div>\n",
       "<div style=\"height=2em;width=2em;background:rgb(0, 136, 86);\">(0, 136, 86)</div>\n",
       "<div style=\"height=2em;width=2em;background:rgb(230, 143, 172);\">(230, 143, 172)</div>\n",
       "<div style=\"height=2em;width=2em;background:rgb(0, 103, 165);\">(0, 103, 165)</div>\n",
       "<div style=\"height=2em;width=2em;background:rgb(249, 147, 121);\">(249, 147, 121)</div>\n",
       "<div style=\"height=2em;width=2em;background:rgb(96, 78, 151);\">(96, 78, 151)</div>\n",
       "<div style=\"height=2em;width=2em;background:rgb(246, 166, 0);\">(246, 166, 0)</div>\n",
       "<div style=\"height=2em;width=2em;background:rgb(179, 68, 108);\">(179, 68, 108)</div>\n",
       "<div style=\"height=2em;width=2em;background:rgb(220, 211, 0);\">(220, 211, 0)</div>\n",
       "<div style=\"height=2em;width=2em;background:rgb(136, 45, 23);\">(136, 45, 23)</div>\n",
       "<div style=\"height=2em;width=2em;background:rgb(141, 182, 0);\">(141, 182, 0)</div>\n",
       "<div style=\"height=2em;width=2em;background:rgb(101, 69, 34);\">(101, 69, 34)</div>\n",
       "<div style=\"height=2em;width=2em;background:rgb(226, 88, 34);\">(226, 88, 34)</div>\n",
       "<div style=\"height=2em;width=2em;background:rgb(43, 61, 38);\">(43, 61, 38)</div>\n"
      ],
      "text/plain": [
       "<IPython.core.display.HTML object>"
      ]
     },
     "execution_count": 1,
     "metadata": {
      "text/html": {
       "isolated": true
      }
     },
     "output_type": "execute_result"
    }
   ],
   "source": [
    "from IPython.display import HTML\n",
    "from texrelenv.color import get_kelly_colours\n",
    "\n",
    "def show_colours(colours):\n",
    "    html = \"\"\n",
    "    for c in colours:\n",
    "        r, g, b = c\n",
    "        html += f'<div style=\"height=2em;width=2em;background:rgb({r}, {g}, {b});\">{c}</div>\\n'\n",
    "    return HTML(html, metadata=dict(isolated=True))\n",
    "\n",
    "show_colours(get_kelly_colours())"
   ]
  },
  {
   "cell_type": "code",
   "execution_count": 30,
   "id": "6ba675f7",
   "metadata": {},
   "outputs": [
    {
     "data": {
      "text/html": [
       "<div style=\"height=2em;width=2em;background:rgb(200, 240, 90);\">(200, 240, 90)</div>\n",
       "<div style=\"height=2em;width=2em;background:rgb(30, 120, 130);\">(30, 120, 130)</div>\n",
       "<div style=\"height=2em;width=2em;background:rgb(200, 110, 110);\">(200, 110, 110)</div>\n",
       "<div style=\"height=2em;width=2em;background:rgb(160, 50, 140);\">(160, 50, 140)</div>\n",
       "<div style=\"height=2em;width=2em;background:rgb(100, 140, 120);\">(100, 140, 120)</div>\n",
       "<div style=\"height=2em;width=2em;background:rgb(100, 220, 250);\">(100, 220, 250)</div>\n",
       "<div style=\"height=2em;width=2em;background:rgb(150, 100, 120);\">(150, 100, 120)</div>\n",
       "<div style=\"height=2em;width=2em;background:rgb(230, 10, 10);\">(230, 10, 10)</div>\n",
       "<div style=\"height=2em;width=2em;background:rgb(70, 60, 140);\">(70, 60, 140)</div>\n",
       "<div style=\"height=2em;width=2em;background:rgb(110, 120, 120);\">(110, 120, 120)</div>\n",
       "<div style=\"height=2em;width=2em;background:rgb(40, 210, 130);\">(40, 210, 130)</div>\n",
       "<div style=\"height=2em;width=2em;background:rgb(70, 20, 60);\">(70, 20, 60)</div>\n",
       "<div style=\"height=2em;width=2em;background:rgb(10, 10, 110);\">(10, 10, 110)</div>\n",
       "<div style=\"height=2em;width=2em;background:rgb(60, 10, 40);\">(60, 10, 40)</div>\n",
       "<div style=\"height=2em;width=2em;background:rgb(190, 50, 140);\">(190, 50, 140)</div>\n",
       "<div style=\"height=2em;width=2em;background:rgb(160, 240, 70);\">(160, 240, 70)</div>\n",
       "<div style=\"height=2em;width=2em;background:rgb(90, 170, 250);\">(90, 170, 250)</div>\n",
       "<div style=\"height=2em;width=2em;background:rgb(70, 20, 190);\">(70, 20, 190)</div>\n",
       "<div style=\"height=2em;width=2em;background:rgb(190, 190, 180);\">(190, 190, 180)</div>\n",
       "<div style=\"height=2em;width=2em;background:rgb(10, 140, 180);\">(10, 140, 180)</div>\n"
      ],
      "text/plain": [
       "<IPython.core.display.HTML object>"
      ]
     },
     "execution_count": 30,
     "metadata": {
      "text/html": {
       "isolated": true
      }
     },
     "output_type": "execute_result"
    }
   ],
   "source": [
    "from typing import Tuple\n",
    "\n",
    "def ordinal_to_colour(ordinal: int) -> Tuple[int, int, int]:\n",
    "    \"\"\"\n",
    "    Given an integer, deterministically produce a unique(ish) RGB colour.\n",
    "    \"\"\"\n",
    "    hashstring = str(abs(hash(str(ordinal))))\n",
    "    a, b, c = int(hashstring[:6]), int(hashstring[6:12]), int(hashstring[12:])\n",
    "    return ((a % 26) * 10, (b % 26) * 10, (c % 26) * 10)\n",
    "\n",
    "show_colours([ordinal_to_colour(i) for i in range(20)])"
   ]
  },
  {
   "cell_type": "code",
   "execution_count": 23,
   "id": "d1adf0ab-91ad-4099-bee7-6ed5e54a77a3",
   "metadata": {},
   "outputs": [
    {
     "name": "stdout",
     "output_type": "stream",
     "text": [
      "5\n",
      "1\n"
     ]
    },
    {
     "data": {
      "image/png": "[encoded data removed]",
      "text/plain": [
       "<Figure size 1200x400 with 3 Axes>"
      ]
     },
     "metadata": {},
     "output_type": "display_data"
    }
   ],
   "source": [
    "from texrelenv.environment import ThingMaker, Grid\n",
    "from PIL import Image\n",
    "import matplotlib.pyplot as plt\n",
    "\n",
    "tm = ThingMaker(distinct_colors=3, distinct_shapes=2, hold_out=0.20)\n",
    "print(len(tm.train_things))\n",
    "print(len(tm.test_things))\n",
    "fig, axs = plt.subplots(nrows=1, ncols=3, figsize=(12,4))\n",
    "for i, ax in enumerate(axs.flatten()):\n",
    "    plt.sca(ax)\n",
    "    plt.axis(\"off\")\n",
    "    grid = Grid(hard_boundary=True)\n",
    "    things = [tm.thing(\"test\") for _ in range(10)]\n",
    "    grid.pack(things)\n",
    "    plt.imshow(Image.fromarray(grid.colorized_image()))\n"
   ]
  }
 ],
 "metadata": {
  "kernelspec": {
   "display_name": "Python 3 (ipykernel)",
   "language": "python",
   "name": "python3"
  },
  "language_info": {
   "codemirror_mode": {
    "name": "ipython",
    "version": 3
   },
   "file_extension": ".py",
   "mimetype": "text/x-python",
   "name": "python",
   "nbconvert_exporter": "python",
   "pygments_lexer": "ipython3",
   "version": "3.12.8"
  }
 },
 "nbformat": 4,
 "nbformat_minor": 5
}
